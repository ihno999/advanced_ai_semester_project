{
 "cells": [
  {
   "cell_type": "markdown",
   "metadata": {},
   "source": [
    "Dungeon AI V1"
   ]
  },
  {
   "cell_type": "code",
   "execution_count": 1,
   "metadata": {
    "ExecuteTime": {
     "end_time": "2025-05-07T14:02:44.608144Z",
     "start_time": "2025-05-07T14:02:35.700427Z"
    }
   },
   "outputs": [
    {
     "name": "stdout",
     "output_type": "stream",
     "text": [
      "Requirement already satisfied: google-generativeai in c:\\ihno\\hoger onderwijs\\ucll\\jaar 2\\advanced ai\\semester project\\avanced_ai_semester_project\\.venv\\lib\\site-packages (0.8.5)\n",
      "Requirement already satisfied: google-ai-generativelanguage==0.6.15 in c:\\ihno\\hoger onderwijs\\ucll\\jaar 2\\advanced ai\\semester project\\avanced_ai_semester_project\\.venv\\lib\\site-packages (from google-generativeai) (0.6.15)\n",
      "Requirement already satisfied: google-api-core in c:\\ihno\\hoger onderwijs\\ucll\\jaar 2\\advanced ai\\semester project\\avanced_ai_semester_project\\.venv\\lib\\site-packages (from google-generativeai) (2.25.0rc0)\n",
      "Requirement already satisfied: google-api-python-client in c:\\ihno\\hoger onderwijs\\ucll\\jaar 2\\advanced ai\\semester project\\avanced_ai_semester_project\\.venv\\lib\\site-packages (from google-generativeai) (2.169.0)\n",
      "Requirement already satisfied: google-auth>=2.15.0 in c:\\ihno\\hoger onderwijs\\ucll\\jaar 2\\advanced ai\\semester project\\avanced_ai_semester_project\\.venv\\lib\\site-packages (from google-generativeai) (2.40.0)\n",
      "Requirement already satisfied: protobuf in c:\\ihno\\hoger onderwijs\\ucll\\jaar 2\\advanced ai\\semester project\\avanced_ai_semester_project\\.venv\\lib\\site-packages (from google-generativeai) (5.29.4)\n",
      "Requirement already satisfied: pydantic in c:\\ihno\\hoger onderwijs\\ucll\\jaar 2\\advanced ai\\semester project\\avanced_ai_semester_project\\.venv\\lib\\site-packages (from google-generativeai) (2.11.3)\n",
      "Requirement already satisfied: tqdm in c:\\ihno\\hoger onderwijs\\ucll\\jaar 2\\advanced ai\\semester project\\avanced_ai_semester_project\\.venv\\lib\\site-packages (from google-generativeai) (4.67.1)\n",
      "Requirement already satisfied: typing-extensions in c:\\ihno\\hoger onderwijs\\ucll\\jaar 2\\advanced ai\\semester project\\avanced_ai_semester_project\\.venv\\lib\\site-packages (from google-generativeai) (4.13.2)\n",
      "Requirement already satisfied: proto-plus<2.0.0dev,>=1.22.3 in c:\\ihno\\hoger onderwijs\\ucll\\jaar 2\\advanced ai\\semester project\\avanced_ai_semester_project\\.venv\\lib\\site-packages (from google-ai-generativelanguage==0.6.15->google-generativeai) (1.26.1)\n",
      "Requirement already satisfied: googleapis-common-protos<2.0.0,>=1.56.2 in c:\\ihno\\hoger onderwijs\\ucll\\jaar 2\\advanced ai\\semester project\\avanced_ai_semester_project\\.venv\\lib\\site-packages (from google-api-core->google-generativeai) (1.70.0)\n",
      "Requirement already satisfied: requests<3.0.0,>=2.18.0 in c:\\ihno\\hoger onderwijs\\ucll\\jaar 2\\advanced ai\\semester project\\avanced_ai_semester_project\\.venv\\lib\\site-packages (from google-api-core->google-generativeai) (2.32.3)\n",
      "Requirement already satisfied: cachetools<6.0,>=2.0.0 in c:\\ihno\\hoger onderwijs\\ucll\\jaar 2\\advanced ai\\semester project\\avanced_ai_semester_project\\.venv\\lib\\site-packages (from google-auth>=2.15.0->google-generativeai) (5.5.2)\n",
      "Requirement already satisfied: pyasn1-modules>=0.2.1 in c:\\ihno\\hoger onderwijs\\ucll\\jaar 2\\advanced ai\\semester project\\avanced_ai_semester_project\\.venv\\lib\\site-packages (from google-auth>=2.15.0->google-generativeai) (0.4.2)\n",
      "Requirement already satisfied: rsa<5,>=3.1.4 in c:\\ihno\\hoger onderwijs\\ucll\\jaar 2\\advanced ai\\semester project\\avanced_ai_semester_project\\.venv\\lib\\site-packages (from google-auth>=2.15.0->google-generativeai) (4.9.1)\n",
      "Requirement already satisfied: httplib2<1.0.0,>=0.19.0 in c:\\ihno\\hoger onderwijs\\ucll\\jaar 2\\advanced ai\\semester project\\avanced_ai_semester_project\\.venv\\lib\\site-packages (from google-api-python-client->google-generativeai) (0.22.0)\n",
      "Requirement already satisfied: google-auth-httplib2<1.0.0,>=0.2.0 in c:\\ihno\\hoger onderwijs\\ucll\\jaar 2\\advanced ai\\semester project\\avanced_ai_semester_project\\.venv\\lib\\site-packages (from google-api-python-client->google-generativeai) (0.2.0)\n",
      "Requirement already satisfied: uritemplate<5,>=3.0.1 in c:\\ihno\\hoger onderwijs\\ucll\\jaar 2\\advanced ai\\semester project\\avanced_ai_semester_project\\.venv\\lib\\site-packages (from google-api-python-client->google-generativeai) (4.1.1)\n",
      "Requirement already satisfied: annotated-types>=0.6.0 in c:\\ihno\\hoger onderwijs\\ucll\\jaar 2\\advanced ai\\semester project\\avanced_ai_semester_project\\.venv\\lib\\site-packages (from pydantic->google-generativeai) (0.7.0)\n",
      "Requirement already satisfied: pydantic-core==2.33.1 in c:\\ihno\\hoger onderwijs\\ucll\\jaar 2\\advanced ai\\semester project\\avanced_ai_semester_project\\.venv\\lib\\site-packages (from pydantic->google-generativeai) (2.33.1)\n",
      "Requirement already satisfied: typing-inspection>=0.4.0 in c:\\ihno\\hoger onderwijs\\ucll\\jaar 2\\advanced ai\\semester project\\avanced_ai_semester_project\\.venv\\lib\\site-packages (from pydantic->google-generativeai) (0.4.0)\n",
      "Requirement already satisfied: colorama in c:\\ihno\\hoger onderwijs\\ucll\\jaar 2\\advanced ai\\semester project\\avanced_ai_semester_project\\.venv\\lib\\site-packages (from tqdm->google-generativeai) (0.4.6)\n",
      "Requirement already satisfied: grpcio<2.0.0,>=1.33.2 in c:\\ihno\\hoger onderwijs\\ucll\\jaar 2\\advanced ai\\semester project\\avanced_ai_semester_project\\.venv\\lib\\site-packages (from google-api-core[grpc]!=2.0.*,!=2.1.*,!=2.10.*,!=2.2.*,!=2.3.*,!=2.4.*,!=2.5.*,!=2.6.*,!=2.7.*,!=2.8.*,!=2.9.*,<3.0.0dev,>=1.34.1->google-ai-generativelanguage==0.6.15->google-generativeai) (1.71.0)\n",
      "Requirement already satisfied: grpcio-status<2.0.0,>=1.33.2 in c:\\ihno\\hoger onderwijs\\ucll\\jaar 2\\advanced ai\\semester project\\avanced_ai_semester_project\\.venv\\lib\\site-packages (from google-api-core[grpc]!=2.0.*,!=2.1.*,!=2.10.*,!=2.2.*,!=2.3.*,!=2.4.*,!=2.5.*,!=2.6.*,!=2.7.*,!=2.8.*,!=2.9.*,<3.0.0dev,>=1.34.1->google-ai-generativelanguage==0.6.15->google-generativeai) (1.71.0)\n",
      "Requirement already satisfied: pyparsing!=3.0.0,!=3.0.1,!=3.0.2,!=3.0.3,<4,>=2.4.2 in c:\\ihno\\hoger onderwijs\\ucll\\jaar 2\\advanced ai\\semester project\\avanced_ai_semester_project\\.venv\\lib\\site-packages (from httplib2<1.0.0,>=0.19.0->google-api-python-client->google-generativeai) (3.2.3)\n",
      "Requirement already satisfied: pyasn1<0.7.0,>=0.6.1 in c:\\ihno\\hoger onderwijs\\ucll\\jaar 2\\advanced ai\\semester project\\avanced_ai_semester_project\\.venv\\lib\\site-packages (from pyasn1-modules>=0.2.1->google-auth>=2.15.0->google-generativeai) (0.6.1)\n",
      "Requirement already satisfied: charset-normalizer<4,>=2 in c:\\ihno\\hoger onderwijs\\ucll\\jaar 2\\advanced ai\\semester project\\avanced_ai_semester_project\\.venv\\lib\\site-packages (from requests<3.0.0,>=2.18.0->google-api-core->google-generativeai) (3.4.1)\n",
      "Requirement already satisfied: idna<4,>=2.5 in c:\\ihno\\hoger onderwijs\\ucll\\jaar 2\\advanced ai\\semester project\\avanced_ai_semester_project\\.venv\\lib\\site-packages (from requests<3.0.0,>=2.18.0->google-api-core->google-generativeai) (3.10)\n",
      "Requirement already satisfied: urllib3<3,>=1.21.1 in c:\\ihno\\hoger onderwijs\\ucll\\jaar 2\\advanced ai\\semester project\\avanced_ai_semester_project\\.venv\\lib\\site-packages (from requests<3.0.0,>=2.18.0->google-api-core->google-generativeai) (2.4.0)\n",
      "Requirement already satisfied: certifi>=2017.4.17 in c:\\ihno\\hoger onderwijs\\ucll\\jaar 2\\advanced ai\\semester project\\avanced_ai_semester_project\\.venv\\lib\\site-packages (from requests<3.0.0,>=2.18.0->google-api-core->google-generativeai) (2025.1.31)\n",
      "Note: you may need to restart the kernel to use updated packages.\n"
     ]
    },
    {
     "name": "stderr",
     "output_type": "stream",
     "text": [
      "\n",
      "[notice] A new release of pip is available: 25.0.1 -> 25.1.1\n",
      "[notice] To update, run: python.exe -m pip install --upgrade pip\n"
     ]
    }
   ],
   "source": [
    "# module installation script\n",
    "%pip install google-generativeai"
   ]
  },
  {
   "cell_type": "markdown",
   "metadata": {},
   "source": [
    "# 🧙‍♂️✨ *Dungeon AI* ✨🐉"
   ]
  },
  {
   "cell_type": "code",
   "execution_count": 1,
   "metadata": {
    "ExecuteTime": {
     "end_time": "2025-05-09T17:34:00.964048Z",
     "start_time": "2025-05-09T17:33:59.932588Z"
    }
   },
   "outputs": [
    {
     "data": {
      "text/markdown": [
       "## Welcome to the Fantasy Adventure Game"
      ],
      "text/plain": [
       "<IPython.core.display.Markdown object>"
      ]
     },
     "metadata": {},
     "output_type": "display_data"
    },
    {
     "data": {
      "application/vnd.jupyter.widget-view+json": {
       "model_id": "3e731a2b340848db9783e8b3865f847b",
       "version_major": 2,
       "version_minor": 0
      },
      "text/plain": [
       "HBox(children=(Dropdown(description='Difficulty:', index=1, layout=Layout(width='50%'), options=('Easy', 'Medi…"
      ]
     },
     "metadata": {},
     "output_type": "display_data"
    },
    {
     "data": {
      "application/vnd.jupyter.widget-view+json": {
       "model_id": "173c142a5140493381e0a1913ec50c07",
       "version_major": 2,
       "version_minor": 0
      },
      "text/plain": [
       "Output()"
      ]
     },
     "metadata": {},
     "output_type": "display_data"
    }
   ],
   "source": [
    "# --- IMPORTS ---\n",
    "import os\n",
    "import time\n",
    "import json\n",
    "import re\n",
    "import google.generativeai as genai\n",
    "from dotenv import load_dotenv\n",
    "import ipywidgets as widgets\n",
    "from IPython.display import display, clear_output, Markdown\n",
    "from item_stats import item_stat_boosts\n",
    "from game_configuration import *\n",
    "\n",
    "\n",
    "# --- LOAD API KEY ---\n",
    "load_dotenv()\n",
    "api_key = os.getenv(\"GOOGLE_API_KEY\")\n",
    "if not api_key:\n",
    "    raise ValueError(\"❌ GOOGLE_API_KEY not found in .env file!\")\n",
    "\n",
    "genai.configure(api_key=api_key)\n",
    "\n",
    "\n",
    "\n",
    "# --- INITIAL UI DISPLAY ---\n",
    "if \"game_ui_initialized\" not in globals():\n",
    "    display(Markdown(\"## Welcome to the Fantasy Adventure Game\"))\n",
    "    display(widgets.HBox([difficulty_dropdown, start_button, load_button, delete_button]))\n",
    "    display(output_area)\n",
    "    game_ui_initialized = True\n",
    "\n"
   ]
  }
 ],
 "metadata": {
  "kernelspec": {
   "display_name": ".venv",
   "language": "python",
   "name": "python3"
  },
  "language_info": {
   "codemirror_mode": {
    "name": "ipython",
    "version": 3
   },
   "file_extension": ".py",
   "mimetype": "text/x-python",
   "name": "python",
   "nbconvert_exporter": "python",
   "pygments_lexer": "ipython3",
   "version": "3.11.5"
  }
 },
 "nbformat": 4,
 "nbformat_minor": 2
}
