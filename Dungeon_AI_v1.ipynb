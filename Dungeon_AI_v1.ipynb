{
 "cells": [
  {
   "cell_type": "markdown",
   "metadata": {},
   "source": [
    "Dungeon AI V1"
   ]
  },
  {
   "cell_type": "code",
   "execution_count": 1,
   "metadata": {
    "ExecuteTime": {
     "end_time": "2025-05-05T20:06:28.001243Z",
     "start_time": "2025-05-05T20:06:04.527878Z"
    }
   },
   "outputs": [
    {
     "name": "stdout",
     "output_type": "stream",
     "text": [
      "Requirement already satisfied: google-generativeai in c:\\ihno\\hoger onderwijs\\ucll\\jaar 2\\advanced ai\\semester project\\avanced_ai_semester_project\\.venv\\lib\\site-packages (0.8.5)\n",
      "Requirement already satisfied: google-ai-generativelanguage==0.6.15 in c:\\ihno\\hoger onderwijs\\ucll\\jaar 2\\advanced ai\\semester project\\avanced_ai_semester_project\\.venv\\lib\\site-packages (from google-generativeai) (0.6.15)\n",
      "Requirement already satisfied: google-api-core in c:\\ihno\\hoger onderwijs\\ucll\\jaar 2\\advanced ai\\semester project\\avanced_ai_semester_project\\.venv\\lib\\site-packages (from google-generativeai) (2.25.0rc0)\n",
      "Requirement already satisfied: google-api-python-client in c:\\ihno\\hoger onderwijs\\ucll\\jaar 2\\advanced ai\\semester project\\avanced_ai_semester_project\\.venv\\lib\\site-packages (from google-generativeai) (2.169.0)\n",
      "Requirement already satisfied: google-auth>=2.15.0 in c:\\ihno\\hoger onderwijs\\ucll\\jaar 2\\advanced ai\\semester project\\avanced_ai_semester_project\\.venv\\lib\\site-packages (from google-generativeai) (2.40.0)\n",
      "Requirement already satisfied: protobuf in c:\\ihno\\hoger onderwijs\\ucll\\jaar 2\\advanced ai\\semester project\\avanced_ai_semester_project\\.venv\\lib\\site-packages (from google-generativeai) (5.29.4)\n",
      "Requirement already satisfied: pydantic in c:\\ihno\\hoger onderwijs\\ucll\\jaar 2\\advanced ai\\semester project\\avanced_ai_semester_project\\.venv\\lib\\site-packages (from google-generativeai) (2.11.3)\n",
      "Requirement already satisfied: tqdm in c:\\ihno\\hoger onderwijs\\ucll\\jaar 2\\advanced ai\\semester project\\avanced_ai_semester_project\\.venv\\lib\\site-packages (from google-generativeai) (4.67.1)\n",
      "Requirement already satisfied: typing-extensions in c:\\ihno\\hoger onderwijs\\ucll\\jaar 2\\advanced ai\\semester project\\avanced_ai_semester_project\\.venv\\lib\\site-packages (from google-generativeai) (4.13.2)\n",
      "Requirement already satisfied: proto-plus<2.0.0dev,>=1.22.3 in c:\\ihno\\hoger onderwijs\\ucll\\jaar 2\\advanced ai\\semester project\\avanced_ai_semester_project\\.venv\\lib\\site-packages (from google-ai-generativelanguage==0.6.15->google-generativeai) (1.26.1)\n",
      "Requirement already satisfied: googleapis-common-protos<2.0.0,>=1.56.2 in c:\\ihno\\hoger onderwijs\\ucll\\jaar 2\\advanced ai\\semester project\\avanced_ai_semester_project\\.venv\\lib\\site-packages (from google-api-core->google-generativeai) (1.70.0)\n",
      "Requirement already satisfied: requests<3.0.0,>=2.18.0 in c:\\ihno\\hoger onderwijs\\ucll\\jaar 2\\advanced ai\\semester project\\avanced_ai_semester_project\\.venv\\lib\\site-packages (from google-api-core->google-generativeai) (2.32.3)\n",
      "Requirement already satisfied: cachetools<6.0,>=2.0.0 in c:\\ihno\\hoger onderwijs\\ucll\\jaar 2\\advanced ai\\semester project\\avanced_ai_semester_project\\.venv\\lib\\site-packages (from google-auth>=2.15.0->google-generativeai) (5.5.2)\n",
      "Requirement already satisfied: pyasn1-modules>=0.2.1 in c:\\ihno\\hoger onderwijs\\ucll\\jaar 2\\advanced ai\\semester project\\avanced_ai_semester_project\\.venv\\lib\\site-packages (from google-auth>=2.15.0->google-generativeai) (0.4.2)\n",
      "Requirement already satisfied: rsa<5,>=3.1.4 in c:\\ihno\\hoger onderwijs\\ucll\\jaar 2\\advanced ai\\semester project\\avanced_ai_semester_project\\.venv\\lib\\site-packages (from google-auth>=2.15.0->google-generativeai) (4.9.1)\n",
      "Requirement already satisfied: httplib2<1.0.0,>=0.19.0 in c:\\ihno\\hoger onderwijs\\ucll\\jaar 2\\advanced ai\\semester project\\avanced_ai_semester_project\\.venv\\lib\\site-packages (from google-api-python-client->google-generativeai) (0.22.0)\n",
      "Requirement already satisfied: google-auth-httplib2<1.0.0,>=0.2.0 in c:\\ihno\\hoger onderwijs\\ucll\\jaar 2\\advanced ai\\semester project\\avanced_ai_semester_project\\.venv\\lib\\site-packages (from google-api-python-client->google-generativeai) (0.2.0)\n",
      "Requirement already satisfied: uritemplate<5,>=3.0.1 in c:\\ihno\\hoger onderwijs\\ucll\\jaar 2\\advanced ai\\semester project\\avanced_ai_semester_project\\.venv\\lib\\site-packages (from google-api-python-client->google-generativeai) (4.1.1)\n",
      "Requirement already satisfied: annotated-types>=0.6.0 in c:\\ihno\\hoger onderwijs\\ucll\\jaar 2\\advanced ai\\semester project\\avanced_ai_semester_project\\.venv\\lib\\site-packages (from pydantic->google-generativeai) (0.7.0)\n",
      "Requirement already satisfied: pydantic-core==2.33.1 in c:\\ihno\\hoger onderwijs\\ucll\\jaar 2\\advanced ai\\semester project\\avanced_ai_semester_project\\.venv\\lib\\site-packages (from pydantic->google-generativeai) (2.33.1)\n",
      "Requirement already satisfied: typing-inspection>=0.4.0 in c:\\ihno\\hoger onderwijs\\ucll\\jaar 2\\advanced ai\\semester project\\avanced_ai_semester_project\\.venv\\lib\\site-packages (from pydantic->google-generativeai) (0.4.0)\n",
      "Requirement already satisfied: colorama in c:\\ihno\\hoger onderwijs\\ucll\\jaar 2\\advanced ai\\semester project\\avanced_ai_semester_project\\.venv\\lib\\site-packages (from tqdm->google-generativeai) (0.4.6)\n",
      "Requirement already satisfied: grpcio<2.0.0,>=1.33.2 in c:\\ihno\\hoger onderwijs\\ucll\\jaar 2\\advanced ai\\semester project\\avanced_ai_semester_project\\.venv\\lib\\site-packages (from google-api-core[grpc]!=2.0.*,!=2.1.*,!=2.10.*,!=2.2.*,!=2.3.*,!=2.4.*,!=2.5.*,!=2.6.*,!=2.7.*,!=2.8.*,!=2.9.*,<3.0.0dev,>=1.34.1->google-ai-generativelanguage==0.6.15->google-generativeai) (1.71.0)\n",
      "Requirement already satisfied: grpcio-status<2.0.0,>=1.33.2 in c:\\ihno\\hoger onderwijs\\ucll\\jaar 2\\advanced ai\\semester project\\avanced_ai_semester_project\\.venv\\lib\\site-packages (from google-api-core[grpc]!=2.0.*,!=2.1.*,!=2.10.*,!=2.2.*,!=2.3.*,!=2.4.*,!=2.5.*,!=2.6.*,!=2.7.*,!=2.8.*,!=2.9.*,<3.0.0dev,>=1.34.1->google-ai-generativelanguage==0.6.15->google-generativeai) (1.71.0)\n",
      "Requirement already satisfied: pyparsing!=3.0.0,!=3.0.1,!=3.0.2,!=3.0.3,<4,>=2.4.2 in c:\\ihno\\hoger onderwijs\\ucll\\jaar 2\\advanced ai\\semester project\\avanced_ai_semester_project\\.venv\\lib\\site-packages (from httplib2<1.0.0,>=0.19.0->google-api-python-client->google-generativeai) (3.2.3)\n",
      "Requirement already satisfied: pyasn1<0.7.0,>=0.6.1 in c:\\ihno\\hoger onderwijs\\ucll\\jaar 2\\advanced ai\\semester project\\avanced_ai_semester_project\\.venv\\lib\\site-packages (from pyasn1-modules>=0.2.1->google-auth>=2.15.0->google-generativeai) (0.6.1)\n",
      "Requirement already satisfied: charset-normalizer<4,>=2 in c:\\ihno\\hoger onderwijs\\ucll\\jaar 2\\advanced ai\\semester project\\avanced_ai_semester_project\\.venv\\lib\\site-packages (from requests<3.0.0,>=2.18.0->google-api-core->google-generativeai) (3.4.1)\n",
      "Requirement already satisfied: idna<4,>=2.5 in c:\\ihno\\hoger onderwijs\\ucll\\jaar 2\\advanced ai\\semester project\\avanced_ai_semester_project\\.venv\\lib\\site-packages (from requests<3.0.0,>=2.18.0->google-api-core->google-generativeai) (3.10)\n",
      "Requirement already satisfied: urllib3<3,>=1.21.1 in c:\\ihno\\hoger onderwijs\\ucll\\jaar 2\\advanced ai\\semester project\\avanced_ai_semester_project\\.venv\\lib\\site-packages (from requests<3.0.0,>=2.18.0->google-api-core->google-generativeai) (2.4.0)\n",
      "Requirement already satisfied: certifi>=2017.4.17 in c:\\ihno\\hoger onderwijs\\ucll\\jaar 2\\advanced ai\\semester project\\avanced_ai_semester_project\\.venv\\lib\\site-packages (from requests<3.0.0,>=2.18.0->google-api-core->google-generativeai) (2025.1.31)\n",
      "Note: you may need to restart the kernel to use updated packages.\n"
     ]
    },
    {
     "name": "stderr",
     "output_type": "stream",
     "text": [
      "\n",
      "[notice] A new release of pip is available: 25.0.1 -> 25.1.1\n",
      "[notice] To update, run: python.exe -m pip install --upgrade pip\n"
     ]
    }
   ],
   "source": [
    "# module installation script\n",
    "%pip install google-generativeai"
   ]
  },
  {
   "cell_type": "code",
   "metadata": {
    "ExecuteTime": {
     "end_time": "2025-05-07T12:44:44.429282Z",
     "start_time": "2025-05-07T12:44:42.525870Z"
    }
   },
   "source": [
    "# --- IMPORTS ---\n",
    "import os\n",
    "import time\n",
    "import google.generativeai as genai\n",
    "from dotenv import load_dotenv\n",
    "import ipywidgets as widgets\n",
    "from IPython.display import display, clear_output, Markdown\n",
    "import json\n",
    "import re\n",
    "\n",
    "# --- LOAD API KEY ---\n",
    "load_dotenv()\n",
    "api_key = os.getenv(\"GOOGLE_API_KEY\")\n",
    "if not api_key:\n",
    "    raise ValueError(\"❌ GOOGLE_API_KEY not found in .env file!\")\n",
    "\n",
    "genai.configure(api_key=api_key)\n",
    "\n",
    "# --- GAME STATE ---\n",
    "model_name = \"gemini-2.0-flash\"\n",
    "player_name = \"Ihno\"\n",
    "context = \"\"\n",
    "game_memory = []\n",
    "player_stats = {}\n",
    "inventory = []\n",
    "difficulty = 1\n",
    "\n",
    "# --- DIFFICULTY ADJUSTMENT ---\n",
    "def adjust_difficulty(player_input):\n",
    "    global difficulty\n",
    "    if any(word in player_input.lower() for word in [\"attack\", \"fight\", \"battle\"]):\n",
    "        difficulty = min(difficulty + 1, 5)\n",
    "    elif any(word in player_input.lower() for word in [\"run\", \"talk\", \"hide\"]):\n",
    "        difficulty = max(difficulty - 1, 1)\n",
    "    return difficulty\n",
    "\n",
    "# --- STORY GENERATION (Gemini) ---\n",
    "def generate_story(context, player_input, difficulty, player_stats, inventory):\n",
    "    prompt = (\n",
    "        \"You are a fantasy dungeon-master AI. \"\n",
    "        \"Continue the adventure in a vivid, immersive style. \"\n",
    "        \"Do not repeat the player's action. Keep it concise (max 5 sentences). \"\n",
    "        \"After the story, provide any game state updates (health, gold, inventory) in this JSON format:\\n\"\n",
    "        \"`<META>{\\\"health\\\": -10, \\\"gold\\\": +5, \\\"inventory_add\\\": [\\\"amulet\\\"], \\\"inventory_remove\\\": [\\\"torch\\\"]}</META>`\\n\"\n",
    "        \"If no update is needed, just write `<META>{}</META>`.\\n\\n\"\n",
    "        f\"Difficulty: {difficulty}\\n\"\n",
    "        f\"Stats: {player_stats}\\n\"\n",
    "        f\"Inventory: {inventory}\\n\\n\"\n",
    "        f\"{context}\\n\"\n",
    "        f\"{player_name}: {player_input}\\n\"\n",
    "        \"Narrator:\"\n",
    "    )\n",
    "\n",
    "    try:\n",
    "        model = genai.GenerativeModel(model_name)\n",
    "        response = model.generate_content(prompt)\n",
    "        return response.text.strip()\n",
    "    except Exception as e:\n",
    "        return f\"❌ Error generating story: {e}\"\n",
    "\n",
    "# --- PARSE META UPDATE ---\n",
    "def apply_meta_updates(text):\n",
    "    global player_stats, inventory\n",
    "\n",
    "    meta_match = re.search(r\"<META>(.*?)</META>\", text, re.DOTALL)\n",
    "    if not meta_match:\n",
    "        return text  # No meta section\n",
    "\n",
    "    story_only = re.sub(r\"<META>.*?</META>\", \"\", text, flags=re.DOTALL).strip()\n",
    "\n",
    "    try:\n",
    "        updates = json.loads(meta_match.group(1))\n",
    "\n",
    "        # Apply health and gold updates\n",
    "        if \"health\" in updates:\n",
    "            player_stats[\"health\"] = max(0, player_stats.get(\"health\", 100) + updates[\"health\"])\n",
    "        if \"gold\" in updates:\n",
    "            player_stats[\"gold\"] = max(0, player_stats.get(\"gold\", 0) + updates[\"gold\"])\n",
    "\n",
    "        # Inventory changes\n",
    "        if \"inventory_add\" in updates:\n",
    "            for item in updates[\"inventory_add\"]:\n",
    "                if item not in inventory:\n",
    "                    inventory.append(item)\n",
    "        if \"inventory_remove\" in updates:\n",
    "            for item in updates[\"inventory_remove\"]:\n",
    "                if item in inventory:\n",
    "                    inventory.remove(item)\n",
    "\n",
    "    except Exception as e:\n",
    "        story_only += f\"\\n\\n❌ Error parsing meta update: {e}\"\n",
    "\n",
    "    return story_only\n",
    "\n",
    "# --- PRINT GAME STATE ---\n",
    "def print_game_state():\n",
    "    display(Markdown(f\"### 📖 **Story so far**\\n{context}\"))\n",
    "    display(Markdown(f\"**🧍 {player_name}'s Inventory:** {inventory}\"))\n",
    "    display(Markdown(f\"**❤️ Stats:** {player_stats} | 🎯 Difficulty:** {['Easy', 'Medium', 'Hard', 'Very Hard', 'Nightmare'][difficulty - 1]}\"))\n",
    "\n",
    "# --- PLAY TURN ---\n",
    "def play_turn(player_input):\n",
    "    global context\n",
    "    if not player_input.strip():\n",
    "        return\n",
    "    game_memory.append(f\"{player_name}: {player_input}\")\n",
    "    adjust_difficulty(player_input)\n",
    "\n",
    "    recent_context = \"\\n\".join(game_memory[-6:])\n",
    "    raw_output = generate_story(recent_context, player_input, difficulty, player_stats, inventory)\n",
    "    cleaned_output = apply_meta_updates(raw_output)\n",
    "\n",
    "    context_update = f\"\\n\\n{cleaned_output}\"\n",
    "    context += context_update\n",
    "    game_memory.append(cleaned_output)\n",
    "\n",
    "    output_area.clear_output(wait=True)\n",
    "    with output_area:\n",
    "        print_game_state()\n",
    "        display(input_box, submit_button)  # 👇 Display input at the bottom\n",
    "\n",
    "# --- START GAME WITH DIFFICULTY ---\n",
    "def start_new_game(difficulty_choice):\n",
    "    global context, player_stats, inventory, difficulty, game_memory\n",
    "\n",
    "    difficulty = {\"Easy\": 1, \"Medium\": 2, \"Hard\": 3}[difficulty_choice]\n",
    "\n",
    "    if difficulty_choice == \"Easy\":\n",
    "        player_stats = {\"health\": 200, \"strength\": 15, \"gold\": 5}\n",
    "        inventory = [\"torch\", \"wooden sword\"]\n",
    "    elif difficulty_choice == \"Medium\":\n",
    "        player_stats = {\"health\": 100, \"strength\": 10, \"gold\": 5}\n",
    "        inventory = [\"torch\", \"wooden stick\"]\n",
    "    elif difficulty_choice == \"Hard\":\n",
    "        player_stats = {\"health\": 50, \"strength\": 5, \"gold\": 5}\n",
    "        inventory = [\"torch\"]\n",
    "\n",
    "    context = f\"{player_name} awakens in a dark forest. A mysterious figure approaches.\"\n",
    "    game_memory = [context]\n",
    "    \n",
    "    output_area.clear_output()\n",
    "    with output_area:\n",
    "        display(Markdown(f\"**New game started on _{difficulty_choice}_ difficulty.**\"))\n",
    "        print_game_state()\n",
    "        display(input_box, submit_button)\n",
    "\n",
    "# --- DIFFICULTY SELECTION UI ---\n",
    "difficulty_dropdown = widgets.Dropdown(\n",
    "    options=['Easy', 'Medium', 'Hard'],\n",
    "    value='Medium',\n",
    "    description='Difficulty:',\n",
    "    layout=widgets.Layout(width='50%')\n",
    ")\n",
    "start_button = widgets.Button(description=\"Start Game\", button_style='primary')\n",
    "\n",
    "def on_start_button_click(b):\n",
    "    start_new_game(difficulty_dropdown.value)\n",
    "\n",
    "start_button.on_click(on_start_button_click)\n",
    "\n",
    "# --- UI SETUP ---\n",
    "input_box = widgets.Text(\n",
    "    placeholder='What does Ihno do next?',\n",
    "    description='▶️ Action:',\n",
    "    layout=widgets.Layout(width='70%')\n",
    ")\n",
    "submit_button = widgets.Button(description=\"Submit\", button_style='success')\n",
    "output_area = widgets.Output()\n",
    "\n",
    "def on_button_click(b):\n",
    "    play_turn(input_box.value)\n",
    "    input_box.value = ''\n",
    "\n",
    "submit_button.on_click(on_button_click)\n",
    "\n",
    "# --- INITIAL DISPLAY ---\n",
    "if \"game_ui_initialized\" not in globals():\n",
    "    display(Markdown(\"### Choose your difficulty to start:\"))\n",
    "    display(difficulty_dropdown, start_button)\n",
    "    display(output_area)\n",
    "    game_ui_initialized = True\n"
   ],
   "outputs": [
    {
     "data": {
      "text/plain": [
       "<IPython.core.display.Markdown object>"
      ],
      "text/markdown": "### Choose your difficulty to start:"
     },
     "metadata": {},
     "output_type": "display_data"
    },
    {
     "data": {
      "text/plain": [
       "Dropdown(description='Difficulty:', index=1, layout=Layout(width='50%'), options=('Easy', 'Medium', 'Hard'), v…"
      ],
      "application/vnd.jupyter.widget-view+json": {
       "version_major": 2,
       "version_minor": 0,
       "model_id": "6d82c4d413b34adbbb3da75bc2c4f12a"
      }
     },
     "metadata": {},
     "output_type": "display_data"
    },
    {
     "data": {
      "text/plain": [
       "Button(button_style='primary', description='Start Game', style=ButtonStyle())"
      ],
      "application/vnd.jupyter.widget-view+json": {
       "version_major": 2,
       "version_minor": 0,
       "model_id": "d490ff786b5644d596c13bc5f89f9cd3"
      }
     },
     "metadata": {},
     "output_type": "display_data"
    },
    {
     "data": {
      "text/plain": [
       "Output()"
      ],
      "application/vnd.jupyter.widget-view+json": {
       "version_major": 2,
       "version_minor": 0,
       "model_id": "a3eabccf4a004f0f82a0b5284ecda288"
      }
     },
     "metadata": {},
     "output_type": "display_data"
    }
   ],
   "execution_count": 1
  }
 ],
 "metadata": {
  "kernelspec": {
   "display_name": ".venv",
   "language": "python",
   "name": "python3"
  },
  "language_info": {
   "codemirror_mode": {
    "name": "ipython",
    "version": 3
   },
   "file_extension": ".py",
   "mimetype": "text/x-python",
   "name": "python",
   "nbconvert_exporter": "python",
   "pygments_lexer": "ipython3",
   "version": "3.11.5"
  }
 },
 "nbformat": 4,
 "nbformat_minor": 2
}
